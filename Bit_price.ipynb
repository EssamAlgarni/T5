{
 "cells": [
  {
   "cell_type": "markdown",
   "metadata": {
    "id": "LwPH9wlehFAv"
   },
   "source": [
    "Import libraries"
   ]
  },
  {
   "cell_type": "code",
   "execution_count": 2,
   "metadata": {
    "id": "Ds0XYkBdhD-Y"
   },
   "outputs": [],
   "source": [
    "import numpy as np \n",
    "import pandas as pd \n",
    "from math import sqrt\n",
    "import seaborn\n",
    "import matplotlib.pyplot as plt"
   ]
  },
  {
   "cell_type": "markdown",
   "metadata": {
    "id": "ZUAhGpCmYCqR"
   },
   "source": [
    "Read Dataset by using pandas library"
   ]
  },
  {
   "cell_type": "code",
   "execution_count": 3,
   "metadata": {
    "id": "NVeBlB-jhZVL"
   },
   "outputs": [],
   "source": [
    "df = pd.read_csv(\"/Users/essam/Desktop/Bootcamp/bitstampUSD_1-min_data_2012-01-01_to_2021-03-31.csv\")"
   ]
  },
  {
   "cell_type": "markdown",
   "metadata": {
    "id": "VT5hmIurYHKr"
   },
   "source": [
    "Plot some rows of dataset"
   ]
  },
  {
   "cell_type": "code",
   "execution_count": 5,
   "metadata": {
    "colab": {
     "base_uri": "https://localhost:8080/",
     "height": 202
    },
    "id": "N8FGdDPUkTV2",
    "outputId": "39caac8b-27af-4b47-eb2b-1d8f231f74b1"
   },
   "outputs": [
    {
     "data": {
      "text/html": [
       "<div>\n",
       "<style scoped>\n",
       "    .dataframe tbody tr th:only-of-type {\n",
       "        vertical-align: middle;\n",
       "    }\n",
       "\n",
       "    .dataframe tbody tr th {\n",
       "        vertical-align: top;\n",
       "    }\n",
       "\n",
       "    .dataframe thead th {\n",
       "        text-align: right;\n",
       "    }\n",
       "</style>\n",
       "<table border=\"1\" class=\"dataframe\">\n",
       "  <thead>\n",
       "    <tr style=\"text-align: right;\">\n",
       "      <th></th>\n",
       "      <th>Timestamp</th>\n",
       "      <th>Open</th>\n",
       "      <th>High</th>\n",
       "      <th>Low</th>\n",
       "      <th>Close</th>\n",
       "      <th>Volume_(BTC)</th>\n",
       "      <th>Volume_(Currency)</th>\n",
       "      <th>Weighted_Price</th>\n",
       "    </tr>\n",
       "  </thead>\n",
       "  <tbody>\n",
       "    <tr>\n",
       "      <th>0</th>\n",
       "      <td>1325317920</td>\n",
       "      <td>4.39</td>\n",
       "      <td>4.39</td>\n",
       "      <td>4.39</td>\n",
       "      <td>4.39</td>\n",
       "      <td>0.455581</td>\n",
       "      <td>2.0</td>\n",
       "      <td>4.39</td>\n",
       "    </tr>\n",
       "    <tr>\n",
       "      <th>1</th>\n",
       "      <td>1325317980</td>\n",
       "      <td>NaN</td>\n",
       "      <td>NaN</td>\n",
       "      <td>NaN</td>\n",
       "      <td>NaN</td>\n",
       "      <td>NaN</td>\n",
       "      <td>NaN</td>\n",
       "      <td>NaN</td>\n",
       "    </tr>\n",
       "    <tr>\n",
       "      <th>2</th>\n",
       "      <td>1325318040</td>\n",
       "      <td>NaN</td>\n",
       "      <td>NaN</td>\n",
       "      <td>NaN</td>\n",
       "      <td>NaN</td>\n",
       "      <td>NaN</td>\n",
       "      <td>NaN</td>\n",
       "      <td>NaN</td>\n",
       "    </tr>\n",
       "    <tr>\n",
       "      <th>3</th>\n",
       "      <td>1325318100</td>\n",
       "      <td>NaN</td>\n",
       "      <td>NaN</td>\n",
       "      <td>NaN</td>\n",
       "      <td>NaN</td>\n",
       "      <td>NaN</td>\n",
       "      <td>NaN</td>\n",
       "      <td>NaN</td>\n",
       "    </tr>\n",
       "    <tr>\n",
       "      <th>4</th>\n",
       "      <td>1325318160</td>\n",
       "      <td>NaN</td>\n",
       "      <td>NaN</td>\n",
       "      <td>NaN</td>\n",
       "      <td>NaN</td>\n",
       "      <td>NaN</td>\n",
       "      <td>NaN</td>\n",
       "      <td>NaN</td>\n",
       "    </tr>\n",
       "  </tbody>\n",
       "</table>\n",
       "</div>"
      ],
      "text/plain": [
       "    Timestamp  Open  High   Low  Close  Volume_(BTC)  Volume_(Currency)  \\\n",
       "0  1325317920  4.39  4.39  4.39   4.39      0.455581                2.0   \n",
       "1  1325317980   NaN   NaN   NaN    NaN           NaN                NaN   \n",
       "2  1325318040   NaN   NaN   NaN    NaN           NaN                NaN   \n",
       "3  1325318100   NaN   NaN   NaN    NaN           NaN                NaN   \n",
       "4  1325318160   NaN   NaN   NaN    NaN           NaN                NaN   \n",
       "\n",
       "   Weighted_Price  \n",
       "0            4.39  \n",
       "1             NaN  \n",
       "2             NaN  \n",
       "3             NaN  \n",
       "4             NaN  "
      ]
     },
     "execution_count": 5,
     "metadata": {},
     "output_type": "execute_result"
    }
   ],
   "source": [
    "df.head()"
   ]
  },
  {
   "cell_type": "markdown",
   "metadata": {
    "id": "yBCimbppYM3f"
   },
   "source": [
    "Pandas describe() is used to view some basic statistical details like percentile, mean, std etc. of a data frame or a series of numeric values. When this method is applied to a series of string, it returns a different output which is shown in the examples below"
   ]
  },
  {
   "cell_type": "code",
   "execution_count": 6,
   "metadata": {
    "colab": {
     "base_uri": "https://localhost:8080/",
     "height": 294
    },
    "id": "ioCplzwekVqT",
    "outputId": "471d9269-65c2-43dc-9804-1df654894a3c"
   },
   "outputs": [
    {
     "data": {
      "text/html": [
       "<div>\n",
       "<style scoped>\n",
       "    .dataframe tbody tr th:only-of-type {\n",
       "        vertical-align: middle;\n",
       "    }\n",
       "\n",
       "    .dataframe tbody tr th {\n",
       "        vertical-align: top;\n",
       "    }\n",
       "\n",
       "    .dataframe thead th {\n",
       "        text-align: right;\n",
       "    }\n",
       "</style>\n",
       "<table border=\"1\" class=\"dataframe\">\n",
       "  <thead>\n",
       "    <tr style=\"text-align: right;\">\n",
       "      <th></th>\n",
       "      <th>Timestamp</th>\n",
       "      <th>Open</th>\n",
       "      <th>High</th>\n",
       "      <th>Low</th>\n",
       "      <th>Close</th>\n",
       "      <th>Volume_(BTC)</th>\n",
       "      <th>Volume_(Currency)</th>\n",
       "      <th>Weighted_Price</th>\n",
       "    </tr>\n",
       "  </thead>\n",
       "  <tbody>\n",
       "    <tr>\n",
       "      <th>count</th>\n",
       "      <td>4.857377e+06</td>\n",
       "      <td>3.613769e+06</td>\n",
       "      <td>3.613769e+06</td>\n",
       "      <td>3.613769e+06</td>\n",
       "      <td>3.613769e+06</td>\n",
       "      <td>3.613769e+06</td>\n",
       "      <td>3.613769e+06</td>\n",
       "      <td>3.613769e+06</td>\n",
       "    </tr>\n",
       "    <tr>\n",
       "      <th>mean</th>\n",
       "      <td>1.471301e+09</td>\n",
       "      <td>6.009024e+03</td>\n",
       "      <td>6.013357e+03</td>\n",
       "      <td>6.004488e+03</td>\n",
       "      <td>6.009014e+03</td>\n",
       "      <td>9.323249e+00</td>\n",
       "      <td>4.176284e+04</td>\n",
       "      <td>6.008935e+03</td>\n",
       "    </tr>\n",
       "    <tr>\n",
       "      <th>std</th>\n",
       "      <td>8.428019e+07</td>\n",
       "      <td>8.996247e+03</td>\n",
       "      <td>9.003521e+03</td>\n",
       "      <td>8.988778e+03</td>\n",
       "      <td>8.996360e+03</td>\n",
       "      <td>3.054989e+01</td>\n",
       "      <td>1.518248e+05</td>\n",
       "      <td>8.995992e+03</td>\n",
       "    </tr>\n",
       "    <tr>\n",
       "      <th>min</th>\n",
       "      <td>1.325318e+09</td>\n",
       "      <td>3.800000e+00</td>\n",
       "      <td>3.800000e+00</td>\n",
       "      <td>1.500000e+00</td>\n",
       "      <td>1.500000e+00</td>\n",
       "      <td>0.000000e+00</td>\n",
       "      <td>0.000000e+00</td>\n",
       "      <td>3.800000e+00</td>\n",
       "    </tr>\n",
       "    <tr>\n",
       "      <th>25%</th>\n",
       "      <td>1.398179e+09</td>\n",
       "      <td>4.438600e+02</td>\n",
       "      <td>4.440000e+02</td>\n",
       "      <td>4.435200e+02</td>\n",
       "      <td>4.438600e+02</td>\n",
       "      <td>4.097759e-01</td>\n",
       "      <td>4.521422e+02</td>\n",
       "      <td>4.438306e+02</td>\n",
       "    </tr>\n",
       "    <tr>\n",
       "      <th>50%</th>\n",
       "      <td>1.471428e+09</td>\n",
       "      <td>3.596970e+03</td>\n",
       "      <td>3.598190e+03</td>\n",
       "      <td>3.595620e+03</td>\n",
       "      <td>3.597000e+03</td>\n",
       "      <td>1.979811e+00</td>\n",
       "      <td>3.810124e+03</td>\n",
       "      <td>3.596804e+03</td>\n",
       "    </tr>\n",
       "    <tr>\n",
       "      <th>75%</th>\n",
       "      <td>1.544288e+09</td>\n",
       "      <td>8.627270e+03</td>\n",
       "      <td>8.632980e+03</td>\n",
       "      <td>8.621090e+03</td>\n",
       "      <td>8.627160e+03</td>\n",
       "      <td>7.278216e+00</td>\n",
       "      <td>2.569821e+04</td>\n",
       "      <td>8.627637e+03</td>\n",
       "    </tr>\n",
       "    <tr>\n",
       "      <th>max</th>\n",
       "      <td>1.617149e+09</td>\n",
       "      <td>6.176356e+04</td>\n",
       "      <td>6.178183e+04</td>\n",
       "      <td>6.167355e+04</td>\n",
       "      <td>6.178180e+04</td>\n",
       "      <td>5.853852e+03</td>\n",
       "      <td>1.390067e+07</td>\n",
       "      <td>6.171621e+04</td>\n",
       "    </tr>\n",
       "  </tbody>\n",
       "</table>\n",
       "</div>"
      ],
      "text/plain": [
       "          Timestamp          Open          High           Low         Close  \\\n",
       "count  4.857377e+06  3.613769e+06  3.613769e+06  3.613769e+06  3.613769e+06   \n",
       "mean   1.471301e+09  6.009024e+03  6.013357e+03  6.004488e+03  6.009014e+03   \n",
       "std    8.428019e+07  8.996247e+03  9.003521e+03  8.988778e+03  8.996360e+03   \n",
       "min    1.325318e+09  3.800000e+00  3.800000e+00  1.500000e+00  1.500000e+00   \n",
       "25%    1.398179e+09  4.438600e+02  4.440000e+02  4.435200e+02  4.438600e+02   \n",
       "50%    1.471428e+09  3.596970e+03  3.598190e+03  3.595620e+03  3.597000e+03   \n",
       "75%    1.544288e+09  8.627270e+03  8.632980e+03  8.621090e+03  8.627160e+03   \n",
       "max    1.617149e+09  6.176356e+04  6.178183e+04  6.167355e+04  6.178180e+04   \n",
       "\n",
       "       Volume_(BTC)  Volume_(Currency)  Weighted_Price  \n",
       "count  3.613769e+06       3.613769e+06    3.613769e+06  \n",
       "mean   9.323249e+00       4.176284e+04    6.008935e+03  \n",
       "std    3.054989e+01       1.518248e+05    8.995992e+03  \n",
       "min    0.000000e+00       0.000000e+00    3.800000e+00  \n",
       "25%    4.097759e-01       4.521422e+02    4.438306e+02  \n",
       "50%    1.979811e+00       3.810124e+03    3.596804e+03  \n",
       "75%    7.278216e+00       2.569821e+04    8.627637e+03  \n",
       "max    5.853852e+03       1.390067e+07    6.171621e+04  "
      ]
     },
     "execution_count": 6,
     "metadata": {},
     "output_type": "execute_result"
    }
   ],
   "source": [
    "df.describe()"
   ]
  },
  {
   "cell_type": "markdown",
   "metadata": {
    "id": "_-gLTt_iYcmg"
   },
   "source": [
    "The info() function is used to print a concise summary of a DataFrame. This method prints information about a DataFrame including the index dtype and column dtypes, non-null values and memory usage. Whether to print the full summary."
   ]
  },
  {
   "cell_type": "code",
   "execution_count": 7,
   "metadata": {
    "colab": {
     "base_uri": "https://localhost:8080/"
    },
    "id": "-idbzbTBkYL_",
    "outputId": "0d9c9017-d351-480d-b068-4d77744e630d"
   },
   "outputs": [
    {
     "name": "stdout",
     "output_type": "stream",
     "text": [
      "<class 'pandas.core.frame.DataFrame'>\n",
      "RangeIndex: 4857377 entries, 0 to 4857376\n",
      "Data columns (total 8 columns):\n",
      " #   Column             Dtype  \n",
      "---  ------             -----  \n",
      " 0   Timestamp          int64  \n",
      " 1   Open               float64\n",
      " 2   High               float64\n",
      " 3   Low                float64\n",
      " 4   Close              float64\n",
      " 5   Volume_(BTC)       float64\n",
      " 6   Volume_(Currency)  float64\n",
      " 7   Weighted_Price     float64\n",
      "dtypes: float64(7), int64(1)\n",
      "memory usage: 296.5 MB\n"
     ]
    }
   ],
   "source": [
    "df.info()"
   ]
  },
  {
   "cell_type": "markdown",
   "metadata": {
    "id": "7tfmNSEgX8Ee"
   },
   "source": [
    "Here We convert TimeStamp column into data and time format"
   ]
  },
  {
   "cell_type": "code",
   "execution_count": 8,
   "metadata": {
    "id": "7eGRID_hyEN7"
   },
   "outputs": [],
   "source": [
    "df['Timestamp'] = pd.to_datetime(df['Timestamp'], unit='s')"
   ]
  },
  {
   "cell_type": "markdown",
   "metadata": {
    "id": "KrJwrda6Ywsr"
   },
   "source": [
    "Create Time stamp column as index of dataframe"
   ]
  },
  {
   "cell_type": "code",
   "execution_count": 9,
   "metadata": {
    "id": "b3mGcVPEzQEn"
   },
   "outputs": [],
   "source": [
    "df.set_index(df['Timestamp'], inplace=True)"
   ]
  },
  {
   "cell_type": "markdown",
   "metadata": {
    "id": "ikvKRzq4ZJfO"
   },
   "source": [
    "Observe the null values of data frame"
   ]
  },
  {
   "cell_type": "code",
   "execution_count": 10,
   "metadata": {
    "colab": {
     "base_uri": "https://localhost:8080/",
     "height": 294
    },
    "id": "X0M9SqBvY5QX",
    "outputId": "190f8603-01f1-49aa-e6a7-71d5b43b2e23"
   },
   "outputs": [
    {
     "data": {
      "text/html": [
       "<div>\n",
       "<style scoped>\n",
       "    .dataframe tbody tr th:only-of-type {\n",
       "        vertical-align: middle;\n",
       "    }\n",
       "\n",
       "    .dataframe tbody tr th {\n",
       "        vertical-align: top;\n",
       "    }\n",
       "\n",
       "    .dataframe thead th {\n",
       "        text-align: right;\n",
       "    }\n",
       "</style>\n",
       "<table border=\"1\" class=\"dataframe\">\n",
       "  <thead>\n",
       "    <tr style=\"text-align: right;\">\n",
       "      <th></th>\n",
       "      <th>False</th>\n",
       "      <th>True</th>\n",
       "    </tr>\n",
       "  </thead>\n",
       "  <tbody>\n",
       "    <tr>\n",
       "      <th>Timestamp</th>\n",
       "      <td>4857377.0</td>\n",
       "      <td>NaN</td>\n",
       "    </tr>\n",
       "    <tr>\n",
       "      <th>Open</th>\n",
       "      <td>3613769.0</td>\n",
       "      <td>1243608.0</td>\n",
       "    </tr>\n",
       "    <tr>\n",
       "      <th>High</th>\n",
       "      <td>3613769.0</td>\n",
       "      <td>1243608.0</td>\n",
       "    </tr>\n",
       "    <tr>\n",
       "      <th>Low</th>\n",
       "      <td>3613769.0</td>\n",
       "      <td>1243608.0</td>\n",
       "    </tr>\n",
       "    <tr>\n",
       "      <th>Close</th>\n",
       "      <td>3613769.0</td>\n",
       "      <td>1243608.0</td>\n",
       "    </tr>\n",
       "    <tr>\n",
       "      <th>Volume_(BTC)</th>\n",
       "      <td>3613769.0</td>\n",
       "      <td>1243608.0</td>\n",
       "    </tr>\n",
       "    <tr>\n",
       "      <th>Volume_(Currency)</th>\n",
       "      <td>3613769.0</td>\n",
       "      <td>1243608.0</td>\n",
       "    </tr>\n",
       "    <tr>\n",
       "      <th>Weighted_Price</th>\n",
       "      <td>3613769.0</td>\n",
       "      <td>1243608.0</td>\n",
       "    </tr>\n",
       "  </tbody>\n",
       "</table>\n",
       "</div>"
      ],
      "text/plain": [
       "                       False       True\n",
       "Timestamp          4857377.0        NaN\n",
       "Open               3613769.0  1243608.0\n",
       "High               3613769.0  1243608.0\n",
       "Low                3613769.0  1243608.0\n",
       "Close              3613769.0  1243608.0\n",
       "Volume_(BTC)       3613769.0  1243608.0\n",
       "Volume_(Currency)  3613769.0  1243608.0\n",
       "Weighted_Price     3613769.0  1243608.0"
      ]
     },
     "execution_count": 10,
     "metadata": {},
     "output_type": "execute_result"
    }
   ],
   "source": [
    "col = list(df.columns)\n",
    "null_val = []\n",
    "for i in col:\n",
    "    null_val.append(df[i].isna().value_counts())\n",
    "pd.DataFrame(null_val)\n",
    "\n",
    "##Here observe that all columns contain null values"
   ]
  },
  {
   "cell_type": "markdown",
   "metadata": {
    "id": "3gFDt4X0Z7xj"
   },
   "source": [
    "Now we remove the null rows from dataset"
   ]
  },
  {
   "cell_type": "code",
   "execution_count": null,
   "metadata": {},
   "outputs": [],
   "source": []
  },
  {
   "cell_type": "code",
   "execution_count": 11,
   "metadata": {
    "id": "P9Iv99VdZJAx"
   },
   "outputs": [],
   "source": [
    "df.dropna(inplace=True)"
   ]
  },
  {
   "cell_type": "markdown",
   "metadata": {
    "id": "KuMDNHdT9IPT"
   },
   "source": [
    "Visualization of Dataset"
   ]
  },
  {
   "cell_type": "code",
   "execution_count": 12,
   "metadata": {
    "colab": {
     "base_uri": "https://localhost:8080/",
     "height": 873
    },
    "id": "_4lLiEkq842o",
    "outputId": "2e0ae019-f784-4ce4-88ae-7fcf1145f337",
    "scrolled": true
   },
   "outputs": [
    {
     "data": {
      "text/plain": [
       "<AxesSubplot:title={'center':'Correlation matrix of dataframe'}>"
      ]
     },
     "execution_count": 12,
     "metadata": {},
     "output_type": "execute_result"
    },
    {
     "data": {
      "image/png": "[encoded data removed]",
      "text/plain": [
       "<Figure size 1080x1080 with 2 Axes>"
      ]
     },
     "metadata": {
      "needs_background": "light"
     },
     "output_type": "display_data"
    }
   ],
   "source": [
    "plt.figure(figsize = (15,15))\n",
    "plt.title(\"Correlation matrix of dataframe\")\n",
    "mat = df.corr()\n",
    "seaborn.heatmap(mat, vmin = -1.0, annot = True, square = True,cmap=\"YlGnBu\")\n",
    "###Here we plot the correlation matrix of dataframe that represent effect of variables on each others\n",
    "##Here open, close, high, low and weighted price are highly correlated to each other"
   ]
  },
  {
   "cell_type": "code",
   "execution_count": 13,
   "metadata": {
    "colab": {
     "base_uri": "https://localhost:8080/",
     "height": 296
    },
    "id": "yUpDW-1J86LE",
    "outputId": "fe1c3a1e-4334-42f8-d566-36d15e3d9b28"
   },
   "outputs": [
    {
     "data": {
      "text/plain": [
       "<AxesSubplot:xlabel='Day of Week', ylabel='count'>"
      ]
     },
     "execution_count": 13,
     "metadata": {},
     "output_type": "execute_result"
    },
    {
     "data": {
      "image/png": "[encoded data removed]",
      "text/plain": [
       "<Figure size 432x288 with 1 Axes>"
      ]
     },
     "metadata": {
      "needs_background": "light"
     },
     "output_type": "display_data"
    }
   ],
   "source": [
    "dayOfWeek={0:'Mon', 1:'Tue', 2:'Wed', 3:'Thu', 4:'Fri', 5:'Sat', 6:'Sun'}\n",
    "df['Day of Week'] = df['Timestamp'].dt.dayofweek.map(dayOfWeek)\n",
    "\n",
    "# find indices with min value of that week\n",
    "idx = df.groupby([pd.Grouper(key='Timestamp', freq='W-MON')])['Weighted_Price'].transform(min) == df['Weighted_Price']\n",
    "\n",
    "# remove duplicate day rows\n",
    "weekly_lows = df[idx].groupby([pd.Grouper(key='Timestamp', freq='D')]).first().reset_index()\n",
    "weekly_lows = weekly_lows.dropna()\n",
    "\n",
    "\n",
    "seaborn.countplot(x='Day of Week',data=weekly_lows, order=['Mon', 'Tue', 'Wed', 'Thu', 'Fri', 'Sat', 'Sun'])\n",
    "###Here we plot the count of week days and visualize the day on which maximum bitcoins records are avaliable \n",
    "##By observing the bar plot we conclude that maximum bitcoins records are belong to Tuesday"
   ]
  },
  {
   "cell_type": "code",
   "execution_count": 14,
   "metadata": {
    "id": "vISFJ727-Cq3"
   },
   "outputs": [],
   "source": [
    "df.drop('Timestamp', axis=1, inplace=True)"
   ]
  },
  {
   "cell_type": "code",
   "execution_count": 15,
   "metadata": {
    "colab": {
     "base_uri": "https://localhost:8080/",
     "height": 294
    },
    "id": "jpF18Zfs89bE",
    "outputId": "543d7488-c1f4-4ddd-cd8e-18fcd49af3d0"
   },
   "outputs": [
    {
     "data": {
      "image/png": "[encoded data removed]",
      "text/plain": [
       "<Figure size 432x288 with 1 Axes>"
      ]
     },
     "metadata": {
      "needs_background": "light"
     },
     "output_type": "display_data"
    }
   ],
   "source": [
    "bins = np.linspace(100, 1000, 20)\n",
    "plt.hist(df.High, bins, alpha=1, density=True)\n",
    "plt.title(\"High price histogram\")\n",
    "plt.xlabel(\"Amount\")\n",
    "plt.ylabel(\"Price\")\n",
    "plt.show()\n",
    "###Here we plot the high price of bitcoin"
   ]
  },
  {
   "cell_type": "code",
   "execution_count": 16,
   "metadata": {
    "colab": {
     "base_uri": "https://localhost:8080/",
     "height": 294
    },
    "id": "hf6HjeIG8_lU",
    "outputId": "b7cba25e-8278-46b9-dbdf-780a9d4e241c"
   },
   "outputs": [
    {
     "data": {
      "image/png": "[encoded data removed]",
      "text/plain": [
       "<Figure size 432x288 with 1 Axes>"
      ]
     },
     "metadata": {
      "needs_background": "light"
     },
     "output_type": "display_data"
    }
   ],
   "source": [
    "bins = np.linspace(100, 1000, 20)\n",
    "plt.hist(df.Low, bins, alpha=1, density=True)\n",
    "plt.title(\"Low price histogram\")\n",
    "plt.xlabel(\"Amount\")\n",
    "plt.ylabel(\"Price\")\n",
    "plt.show()\n",
    "###Here we plot the Low price of bitcoin"
   ]
  },
  {
   "cell_type": "code",
   "execution_count": 17,
   "metadata": {
    "colab": {
     "base_uri": "https://localhost:8080/",
     "height": 284
    },
    "id": "ghlS4uXE9BnL",
    "outputId": "8927ac98-5fa3-49a2-843d-41412a4515ad"
   },
   "outputs": [
    {
     "data": {
      "image/png": "[encoded data removed]",
      "text/plain": [
       "<Figure size 432x288 with 1 Axes>"
      ]
     },
     "metadata": {
      "needs_background": "light"
     },
     "output_type": "display_data"
    }
   ],
   "source": [
    "df.Weighted_Price.plot(kind = \"line\", color = \"b\", label = \"Weighted_Price\")\n",
    "plt.xlabel(\"Index\")            \n",
    "plt.ylabel(\"Weighted Price\")           \n",
    "plt.title(\"Plot for Weighted_Price\") \n",
    "plt.show()\n",
    "####Here we plot the weighted price and observe that with time the price increase and reach to peak"
   ]
  },
  {
   "cell_type": "markdown",
   "metadata": {
    "id": "snQXLGmla1JF"
   },
   "source": [
    "Now we calculate the mean of weighted_price column accoring to date"
   ]
  },
  {
   "cell_type": "code",
   "execution_count": 18,
   "metadata": {
    "id": "2TzYCgSfeLD-"
   },
   "outputs": [],
   "source": [
    "df_new = df.groupby('Timestamp')\n",
    "Real_Price = df_new['Weighted_Price'].mean()\n",
    "Real_price=Real_Price[0:100]"
   ]
  },
  {
   "cell_type": "code",
   "execution_count": 27,
   "metadata": {},
   "outputs": [],
   "source": [
    "from sklearn.preprocessing import MinMaxScaler\n"
   ]
  },
  {
   "cell_type": "markdown",
   "metadata": {
    "id": "NE0npF3yf2Ez"
   },
   "source": [
    "Scaling of dataframe"
   ]
  },
  {
   "cell_type": "code",
   "execution_count": 28,
   "metadata": {
    "id": "85-i0AMEeMUe"
   },
   "outputs": [],
   "source": [
    "prediction_days = 60\n",
    "df_train= Real_Price[:len(Real_Price)-prediction_days].values.reshape(-1,1)\n",
    "df_test= Real_Price[len(Real_Price)-prediction_days:].values.reshape(-1,1)\n",
    "\n",
    "scaler_train = MinMaxScaler(feature_range=(0, 1))\n",
    "scaled_train = scaler_train.fit_transform(df_train)\n",
    "\n",
    "scaler_test = MinMaxScaler(feature_range=(0, 1))\n",
    "scaled_test = scaler_test.fit_transform(df_test)"
   ]
  },
  {
   "cell_type": "markdown",
   "metadata": {
    "id": "SslEVs08gQ4L"
   },
   "source": [
    "Split dataset into x and y"
   ]
  },
  {
   "cell_type": "code",
   "execution_count": 29,
   "metadata": {
    "id": "hEYQmjxkfuOi"
   },
   "outputs": [],
   "source": [
    "def create_dataset(dataset, look_back=1):\n",
    "    dataX, dataY = [], []\n",
    "    for i in range(len(dataset) - look_back):\n",
    "        a = dataset[i:(i + look_back), 0]\n",
    "        dataX.append(a)\n",
    "        dataY.append(dataset[i + look_back, 0])\n",
    "    return np.array(dataX), np.array(dataY)\n",
    "\n",
    "trainX, trainY = create_dataset(scaled_train)\n",
    "testX, testY = create_dataset(scaled_test)"
   ]
  },
  {
   "cell_type": "code",
   "execution_count": 23,
   "metadata": {
    "id": "F5FIw-ZehVEC"
   },
   "outputs": [],
   "source": [
    "trainX = np.reshape(trainX, (trainX.shape[0], 1, trainX.shape[1]))\n",
    "testX = np.reshape(testX, (testX.shape[0], 1, testX.shape[1]))"
   ]
  },
  {
   "cell_type": "markdown",
   "metadata": {
    "id": "thYF2QxxsYmK"
   },
   "source": [
    "First Model"
   ]
  },
  {
   "cell_type": "code",
   "execution_count": 24,
   "metadata": {
    "colab": {
     "base_uri": "https://localhost:8080/"
    },
    "id": "fXTx5omBg5-G",
    "outputId": "8d2668c8-7f6a-46d9-f8a1-b9f753f5246a"
   },
   "outputs": [
    {
     "ename": "NameError",
     "evalue": "name 'Sequential' is not defined",
     "output_type": "error",
     "traceback": [
      "\u001b[0;31m---------------------------------------------------------------------------\u001b[0m",
      "\u001b[0;31mNameError\u001b[0m                                 Traceback (most recent call last)",
      "\u001b[0;32m/var/folders/k8/rphzns9535zd21517l7vg5_r0000gn/T/ipykernel_97944/2571745904.py\u001b[0m in \u001b[0;36m<module>\u001b[0;34m\u001b[0m\n\u001b[0;32m----> 1\u001b[0;31m \u001b[0mlstm\u001b[0m \u001b[0;34m=\u001b[0m \u001b[0mSequential\u001b[0m\u001b[0;34m(\u001b[0m\u001b[0;34m)\u001b[0m\u001b[0;34m\u001b[0m\u001b[0;34m\u001b[0m\u001b[0m\n\u001b[0m\u001b[1;32m      2\u001b[0m \u001b[0mlstm\u001b[0m\u001b[0;34m.\u001b[0m\u001b[0madd\u001b[0m\u001b[0;34m(\u001b[0m\u001b[0mLSTM\u001b[0m\u001b[0;34m(\u001b[0m\u001b[0munits\u001b[0m \u001b[0;34m=\u001b[0m \u001b[0;36m32\u001b[0m\u001b[0;34m,\u001b[0m \u001b[0mactivation\u001b[0m \u001b[0;34m=\u001b[0m \u001b[0;34m'relu'\u001b[0m\u001b[0;34m,\u001b[0m\u001b[0mreturn_sequences\u001b[0m\u001b[0;34m=\u001b[0m\u001b[0;32mTrue\u001b[0m\u001b[0;34m,\u001b[0m \u001b[0minput_shape\u001b[0m \u001b[0;34m=\u001b[0m \u001b[0;34m(\u001b[0m\u001b[0mtrainX\u001b[0m\u001b[0;34m.\u001b[0m\u001b[0mshape\u001b[0m\u001b[0;34m[\u001b[0m\u001b[0;36m1\u001b[0m\u001b[0;34m]\u001b[0m\u001b[0;34m,\u001b[0m \u001b[0mtrainX\u001b[0m\u001b[0;34m.\u001b[0m\u001b[0mshape\u001b[0m\u001b[0;34m[\u001b[0m\u001b[0;36m2\u001b[0m\u001b[0;34m]\u001b[0m\u001b[0;34m)\u001b[0m\u001b[0;34m)\u001b[0m\u001b[0;34m)\u001b[0m\u001b[0;34m\u001b[0m\u001b[0;34m\u001b[0m\u001b[0m\n\u001b[1;32m      3\u001b[0m \u001b[0mlstm\u001b[0m\u001b[0;34m.\u001b[0m\u001b[0madd\u001b[0m\u001b[0;34m(\u001b[0m\u001b[0mLSTM\u001b[0m\u001b[0;34m(\u001b[0m\u001b[0munits\u001b[0m \u001b[0;34m=\u001b[0m \u001b[0;36m16\u001b[0m\u001b[0;34m,\u001b[0m \u001b[0minput_shape\u001b[0m \u001b[0;34m=\u001b[0m \u001b[0;34m(\u001b[0m\u001b[0mtrainX\u001b[0m\u001b[0;34m.\u001b[0m\u001b[0mshape\u001b[0m\u001b[0;34m[\u001b[0m\u001b[0;36m1\u001b[0m\u001b[0;34m]\u001b[0m\u001b[0;34m,\u001b[0m \u001b[0mtrainX\u001b[0m\u001b[0;34m.\u001b[0m\u001b[0mshape\u001b[0m\u001b[0;34m[\u001b[0m\u001b[0;36m2\u001b[0m\u001b[0;34m]\u001b[0m\u001b[0;34m)\u001b[0m\u001b[0;34m)\u001b[0m\u001b[0;34m)\u001b[0m\u001b[0;34m\u001b[0m\u001b[0;34m\u001b[0m\u001b[0m\n\u001b[1;32m      4\u001b[0m \u001b[0mlstm\u001b[0m\u001b[0;34m.\u001b[0m\u001b[0madd\u001b[0m\u001b[0;34m(\u001b[0m\u001b[0mDense\u001b[0m\u001b[0;34m(\u001b[0m\u001b[0munits\u001b[0m \u001b[0;34m=\u001b[0m \u001b[0;36m1\u001b[0m\u001b[0;34m)\u001b[0m\u001b[0;34m)\u001b[0m\u001b[0;34m\u001b[0m\u001b[0;34m\u001b[0m\u001b[0m\n\u001b[1;32m      5\u001b[0m \u001b[0mlstm\u001b[0m\u001b[0;34m.\u001b[0m\u001b[0mcompile\u001b[0m\u001b[0;34m(\u001b[0m\u001b[0moptimizer\u001b[0m \u001b[0;34m=\u001b[0m \u001b[0;34m'adam'\u001b[0m\u001b[0;34m,\u001b[0m \u001b[0mloss\u001b[0m \u001b[0;34m=\u001b[0m \u001b[0;34m'mean_squared_error'\u001b[0m\u001b[0;34m)\u001b[0m\u001b[0;34m\u001b[0m\u001b[0;34m\u001b[0m\u001b[0m\n",
      "\u001b[0;31mNameError\u001b[0m: name 'Sequential' is not defined"
     ]
    }
   ],
   "source": [
    "lstm = Sequential()\n",
    "lstm.add(LSTM(units = 32, activation = 'relu',return_sequences=True, input_shape = (trainX.shape[1], trainX.shape[2])))\n",
    "lstm.add(LSTM(units = 16, input_shape = (trainX.shape[1], trainX.shape[2])))\n",
    "lstm.add(Dense(units = 1))\n",
    "lstm.compile(optimizer = 'adam', loss = 'mean_squared_error')\n",
    "history_lstm = lstm.fit(trainX, trainY, batch_size = 32, epochs = 10, verbose=1, shuffle=False, validation_data=(testX, testY))"
   ]
  },
  {
   "cell_type": "code",
   "execution_count": 30,
   "metadata": {},
   "outputs": [],
   "source": [
    "from matplotlib import pyplot\n"
   ]
  },
  {
   "cell_type": "code",
   "execution_count": 31,
   "metadata": {
    "id": "U0c-rFsMUxnh"
   },
   "outputs": [
    {
     "ename": "NameError",
     "evalue": "name 'history_lstm' is not defined",
     "output_type": "error",
     "traceback": [
      "\u001b[0;31m---------------------------------------------------------------------------\u001b[0m",
      "\u001b[0;31mNameError\u001b[0m                                 Traceback (most recent call last)",
      "\u001b[0;32m/var/folders/k8/rphzns9535zd21517l7vg5_r0000gn/T/ipykernel_97944/330212727.py\u001b[0m in \u001b[0;36m<module>\u001b[0;34m\u001b[0m\n\u001b[0;32m----> 1\u001b[0;31m \u001b[0mpyplot\u001b[0m\u001b[0;34m.\u001b[0m\u001b[0mplot\u001b[0m\u001b[0;34m(\u001b[0m\u001b[0mhistory_lstm\u001b[0m\u001b[0;34m.\u001b[0m\u001b[0mhistory\u001b[0m\u001b[0;34m[\u001b[0m\u001b[0;34m'loss'\u001b[0m\u001b[0;34m]\u001b[0m\u001b[0;34m,\u001b[0m \u001b[0mlabel\u001b[0m\u001b[0;34m=\u001b[0m\u001b[0;34m'train'\u001b[0m\u001b[0;34m)\u001b[0m\u001b[0;34m\u001b[0m\u001b[0;34m\u001b[0m\u001b[0m\n\u001b[0m\u001b[1;32m      2\u001b[0m \u001b[0mpyplot\u001b[0m\u001b[0;34m.\u001b[0m\u001b[0mplot\u001b[0m\u001b[0;34m(\u001b[0m\u001b[0mhistory_lstm\u001b[0m\u001b[0;34m.\u001b[0m\u001b[0mhistory\u001b[0m\u001b[0;34m[\u001b[0m\u001b[0;34m'val_loss'\u001b[0m\u001b[0;34m]\u001b[0m\u001b[0;34m,\u001b[0m \u001b[0mlabel\u001b[0m\u001b[0;34m=\u001b[0m\u001b[0;34m'test'\u001b[0m\u001b[0;34m)\u001b[0m\u001b[0;34m\u001b[0m\u001b[0;34m\u001b[0m\u001b[0m\n\u001b[1;32m      3\u001b[0m \u001b[0mpyplot\u001b[0m\u001b[0;34m.\u001b[0m\u001b[0mlegend\u001b[0m\u001b[0;34m(\u001b[0m\u001b[0;34m)\u001b[0m\u001b[0;34m\u001b[0m\u001b[0;34m\u001b[0m\u001b[0m\n\u001b[1;32m      4\u001b[0m \u001b[0mpyplot\u001b[0m\u001b[0;34m.\u001b[0m\u001b[0mshow\u001b[0m\u001b[0;34m(\u001b[0m\u001b[0;34m)\u001b[0m\u001b[0;34m\u001b[0m\u001b[0;34m\u001b[0m\u001b[0m\n",
      "\u001b[0;31mNameError\u001b[0m: name 'history_lstm' is not defined"
     ]
    }
   ],
   "source": [
    "pyplot.plot(history_lstm.history['loss'], label='train')\n",
    "pyplot.plot(history_lstm.history['val_loss'], label='test')\n",
    "pyplot.legend()\n",
    "pyplot.show()"
   ]
  },
  {
   "cell_type": "code",
   "execution_count": 18,
   "metadata": {
    "id": "iE-Zf0i4sTYb"
   },
   "outputs": [],
   "source": [
    "# Making the predictions\n",
    "pred_BTC_price_lstm = lstm.predict(testX)\n",
    "pred_BTC_price_lstm = scaler_test.inverse_transform(pre_BTC_price_lstm.reshape(-1, 1))\n",
    "\n",
    "true = scaler_test.inverse_transform(testY.reshape(-1, 1))"
   ]
  },
  {
   "cell_type": "code",
   "execution_count": null,
   "metadata": {
    "id": "kMknSxxgUz12"
   },
   "outputs": [],
   "source": [
    "pyplot.plot(pre_BTC_price_lstm, label='predict')\n",
    "pyplot.plot(true, label='true')\n",
    "pyplot.legend()\n",
    "pyplot.show()"
   ]
  },
  {
   "cell_type": "markdown",
   "metadata": {
    "id": "zbkjuqsmscDu"
   },
   "source": [
    "Second Model"
   ]
  },
  {
   "cell_type": "code",
   "execution_count": null,
   "metadata": {
    "id": "5J-IFTsuU2SW"
   },
   "outputs": [],
   "source": [
    "Rnn = Sequential()\n",
    "Rnn.add(SimpleRNN(units = 128, activation = 'relu',return_sequences=True, input_shape = (trainX.shape[1], trainX.shape[2])))\n",
    "Rnn.add(BatchNormalization())\n",
    "Rnn.add(SimpleRNN(units = 64, input_shape = (trainX.shape[1], trainX.shape[2])))\n",
    "Rnn.add(Dense(units = 1))\n",
    "Rnn.compile(optimizer = 'adam', loss = 'mean_squared_error')\n",
    "history_rnn = Rnn.fit(trainX, trainY, batch_size = 32, epochs = 2, verbose=1, shuffle=False, validation_data=(testX, testY))"
   ]
  },
  {
   "cell_type": "code",
   "execution_count": null,
   "metadata": {
    "id": "zZLY4HtQvyC4"
   },
   "outputs": [],
   "source": [
    "pyplot.plot(history_rnn.history['loss'], label='train')\n",
    "pyplot.plot(history_rnn.history['val_loss'], label='test')\n",
    "pyplot.legend()\n",
    "pyplot.show()"
   ]
  },
  {
   "cell_type": "code",
   "execution_count": null,
   "metadata": {
    "id": "5iyqdfydCE6T"
   },
   "outputs": [],
   "source": [
    "# Making the predictions\n",
    "pre_BTC_price_Rnn = Rnn.predict(testX)\n",
    "pre_BTC_price_Rnn = scaler_test.inverse_transform(predicted_BTC_price.reshape(-1, 1))\n",
    "true = scaler_test.inverse_transform(testY.reshape(-1, 1))"
   ]
  },
  {
   "cell_type": "code",
   "execution_count": null,
   "metadata": {
    "id": "NzwAnHL_CHMe"
   },
   "outputs": [],
   "source": [
    "pyplot.plot(pre_BTC_price_Rnn, label='predict')\n",
    "pyplot.plot(true, label='true')\n",
    "pyplot.legend()\n",
    "pyplot.show()"
   ]
  }
 ],
 "metadata": {
  "colab": {
   "collapsed_sections": [],
   "name": "Bit_price.ipynb",
   "provenance": []
  },
  "kernelspec": {
   "display_name": "Python 3 (ipykernel)",
   "language": "python",
   "name": "python3"
  },
  "language_info": {
   "codemirror_mode": {
    "name": "ipython",
    "version": 3
   },
   "file_extension": ".py",
   "mimetype": "text/x-python",
   "name": "python",
   "nbconvert_exporter": "python",
   "pygments_lexer": "ipython3",
   "version": "3.9.7"
  }
 },
 "nbformat": 4,
 "nbformat_minor": 1
}
